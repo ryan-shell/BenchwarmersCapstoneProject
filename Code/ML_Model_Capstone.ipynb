{
 "cells": [
  {
   "cell_type": "markdown",
   "metadata": {},
   "source": [
    "### Importing libraries and connecting to SQL database"
   ]
  },
  {
   "cell_type": "code",
   "execution_count": 1,
   "metadata": {},
   "outputs": [
    {
     "data": {
      "text/plain": [
       "(2416, 15)"
      ]
     },
     "execution_count": 1,
     "metadata": {},
     "output_type": "execute_result"
    }
   ],
   "source": [
    "import pandas as pd\n",
    "import pyodbc\n",
    "import numpy as np\n",
    "import pickle\n",
    "import matplotlib.pyplot as plt \n",
    "\n",
    "server = 'database2108.database.windows.net' \n",
    "database = 'group6' \n",
    "username = 'group6user' \n",
    "password = 'everythingIsAwesome!'  \n",
    "cnxn = pyodbc.connect('DRIVER={SQL Server};SERVER='+server+';DATABASE='+database+';UID='+username+';PWD='+ password)\n",
    "cursor = cnxn.cursor()\n",
    "query = \"SELECT * FROM dbo.videogamesSales_full;\"\n",
    "vg = pd.read_sql(query, cnxn)\n",
    "vg.shape"
   ]
  },
  {
   "cell_type": "markdown",
   "metadata": {},
   "source": [
    "### Prepping Dataset for ML Model"
   ]
  },
  {
   "cell_type": "code",
   "execution_count": 2,
   "metadata": {},
   "outputs": [],
   "source": [
    "#dropping unnecessary columns, and nulls\n",
    "vg = vg.drop(columns=['JP_Sales','NA_Sales','Other_Sales','PAL_Sales','timestamp','Rank'])\n",
    "vg.dropna(inplace=True)"
   ]
  },
  {
   "cell_type": "code",
   "execution_count": 5,
   "metadata": {},
   "outputs": [],
   "source": [
    "#there are too many unique Developers and Publishers, especially non-prominent ones, so I'm grouping the not so prominent ones together to reduce load and overfitting model\n",
    "#starting with developers\n",
    "oneDev = vg.groupby('Developer').filter(lambda x:len(x) == 1)\n",
    "twoDev = vg.groupby('Developer').filter(lambda x:len(x) == 2)\n",
    "threeDev = vg.groupby('Developer').filter(lambda x:len(x) == 3)\n",
    "fourDev = vg.groupby('Developer').filter(lambda x:len(x) == 4)\n",
    "popDev = vg.groupby('Developer').filter(lambda x:len(x) >= 5)\n",
    "\n",
    "#grouping them back as one dataframe\n",
    "oneDev['Developer'] = 'OneHits'\n",
    "twoDev['Developer'] = 'TwoHits'\n",
    "threeDev['Developer'] = 'ThreeHits'\n",
    "fourDev['Developer'] = 'FourHits'\n",
    "concatDevs = pd.concat([oneDev,twoDev,threeDev,fourDev,popDev])\n",
    "\n",
    "#then using that dataframe, filtering out non-prominent publishers\n",
    "onePub = concatDevs.groupby('Publisher').filter(lambda x:len(x) == 1)\n",
    "twoPub = concatDevs.groupby('Publisher').filter(lambda x:len(x) == 2)\n",
    "threePub = concatDevs.groupby('Publisher').filter(lambda x:len(x) == 3)\n",
    "fourPub = concatDevs.groupby('Publisher').filter(lambda x:len(x) == 4)\n",
    "popPub = concatDevs.groupby('Publisher').filter(lambda x:len(x) >= 5)\n",
    "\n",
    "#re-grouping as one final, condensed dataframe\n",
    "onePub['Publisher'] = 'OnePubs'\n",
    "twoPub['Publisher'] = 'TwoPubs'\n",
    "threePub['Publisher'] = 'ThreePubs'\n",
    "fourPub['Publisher'] = 'FourPubs'\n",
    "concatVg = pd.concat([onePub,twoPub,threePub,fourPub,popPub])"
   ]
  },
  {
   "cell_type": "code",
   "execution_count": 6,
   "metadata": {},
   "outputs": [],
   "source": [
    "#adding name-lenght column of game title, and doing a log-normal transformation of global sales (so I can make the most of limited dataset without having to remove outliers)\n",
    "concatVg['NameLength'] = concatVg['Name'].str.len()\n",
    "concatVg['log_Global_Sales'] = (np.log(concatVg['Global_Sales']))"
   ]
  },
  {
   "cell_type": "code",
   "execution_count": 7,
   "metadata": {},
   "outputs": [],
   "source": [
    "#making a new datafram with all the columns I want to use for my ML model\n",
    "newvg = concatVg[['NameLength','Critic_Score','ESRB_Rating','Genre','Platform','Publisher','Developer','Year','log_Global_Sales']]"
   ]
  },
  {
   "cell_type": "code",
   "execution_count": 8,
   "metadata": {},
   "outputs": [],
   "source": [
    "#making dummy variables of categorical data\n",
    "vgc2 = pd.get_dummies(newvg, columns=['ESRB_Rating','Genre','Platform','Developer','Publisher'], drop_first=True)"
   ]
  },
  {
   "cell_type": "code",
   "execution_count": 9,
   "metadata": {},
   "outputs": [],
   "source": [
    "#separating out my target, global sales\n",
    "x = vgc2.drop('log_Global_Sales', axis=1)\n",
    "y = vgc2['log_Global_Sales']"
   ]
  },
  {
   "cell_type": "code",
   "execution_count": 10,
   "metadata": {},
   "outputs": [],
   "source": [
    "#splitting dataframe into training and testing sets, using 70/30 split, with random state set at 1 for consistency between runs\n",
    "from sklearn.model_selection import train_test_split\n",
    "x_train, x_test, y_train, y_test = train_test_split(x,y, test_size=0.3, random_state=1)\n",
    "actual_y = y_test"
   ]
  },
  {
   "cell_type": "markdown",
   "metadata": {},
   "source": [
    "### Implementing ML Model: Gradient Boost Regressor"
   ]
  },
  {
   "cell_type": "code",
   "execution_count": 11,
   "metadata": {},
   "outputs": [
    {
     "name": "stdout",
     "output_type": "stream",
     "text": [
      "Gradient Boost Results:\n",
      "Gradient Boost Training: 0.7946774284996443 Gradient Boost Testing: 0.6040190179298747\n"
     ]
    }
   ],
   "source": [
    "from sklearn.ensemble import GradientBoostingRegressor\n",
    "gboostm1 = GradientBoostingRegressor(learning_rate=0.001, max_depth=5, max_features='sqrt', n_estimators=15000, random_state=1).fit(x_train,y_train)\n",
    "gboosttrainscore = gboostm1.score(x_train,y_train)\n",
    "gboosttestscore = gboostm1.score(x_test,y_test)\n",
    "print('Gradient Boost Results:')\n",
    "print('Gradient Boost Training:', gboosttrainscore, 'Gradient Boost Testing:', gboosttestscore)"
   ]
  },
  {
   "cell_type": "markdown",
   "metadata": {},
   "source": [
    "### Notes on ML parameters:\n",
    "#### default loss function (mean squared error used); learning_rate, max_depth and n_estimatiors were the key influencers so they were tuned via grid-search (see appendix in exec. summary for more details)\n",
    "#### random state was set to 1 for consistency between runs\n",
    "#### a bit more on parameters: learning_rate influences the contribuiton of each successive ensemble, having it low reduces overfitting; max_depth limits the number of nodes in a decision tree\n",
    "#### keeping it low also reduces overfitting and n_estimators dictates the number of boosting stages performed, a larger number gives better performance especially considering low learning rate and shallow max_depth"
   ]
  },
  {
   "cell_type": "markdown",
   "metadata": {},
   "source": [
    "#### the training score refers to the r^2 based on the training fit (70% of dataset used), while the test score refers to the testing fit (30% of dataset)\n",
    "#### a high training score and a low test score indicates overfitting; gradient boost is prone to overfitting but the gap between the two is not significant\n",
    "#### the default run gave a highly overfitted model, after optimization with grid-search it was refined to a more robust model with approx. 60% accuracy in predicting sales"
   ]
  },
  {
   "cell_type": "markdown",
   "metadata": {},
   "source": [
    "### The plots below show how well the model fits the data (predicted vs actual) and the spread of the residuals (which has a mostly normal distribution indicating a good fit)"
   ]
  },
  {
   "cell_type": "code",
   "execution_count": 12,
   "metadata": {},
   "outputs": [
    {
     "data": {
      "image/png": "[encoded data removed]",
      "text/plain": [
       "<Figure size 432x288 with 1 Axes>"
      ]
     },
     "metadata": {
      "needs_background": "light"
     },
     "output_type": "display_data"
    }
   ],
   "source": [
    "#checking fit\n",
    "predgboost = gboostm1.predict(x_test)\n",
    "plt.scatter(predgboost,actual_y)\n",
    "plt.show()"
   ]
  },
  {
   "cell_type": "code",
   "execution_count": 13,
   "metadata": {},
   "outputs": [
    {
     "data": {
      "image/png": "[encoded data removed]",
      "text/plain": [
       "<Figure size 432x288 with 1 Axes>"
      ]
     },
     "metadata": {
      "needs_background": "light"
     },
     "output_type": "display_data"
    }
   ],
   "source": [
    "#checking residuals\n",
    "residual_gboost = y_test - predgboost\n",
    "plt.scatter(predgboost, residual_gboost)\n",
    "plt.show()"
   ]
  },
  {
   "cell_type": "markdown",
   "metadata": {},
   "source": [
    "### Exporting ML Model and feature-data\n",
    "#### feature-data gives an overview of parameters that were more prominent in the fitting process"
   ]
  },
  {
   "cell_type": "code",
   "execution_count": 37,
   "metadata": {},
   "outputs": [],
   "source": [
    "#saving ML model for power BI visualizations\n",
    "filename = 'gradientboostmodel_grouped'\n",
    "pickle.dump(gboostm1, open(filename,'wb'))\n",
    "\n",
    "#saving feature importances to .csv for reference in report\n",
    "imp1 = gboostm1.feature_importances_\n",
    "imp2 = gboostm1.feature_names_in_\n",
    "dfimp = pd.DataFrame(imp1,imp2)\n",
    "dfimp\n",
    "dfimp.to_csv('checkout_grouped.csv')"
   ]
  }
 ],
 "metadata": {
  "interpreter": {
   "hash": "28298b7804c98a79cadddc9978bbb8e3d6b27b637d1c85215ec3c279b21152cb"
  },
  "kernelspec": {
   "display_name": "Python 3.9.5 64-bit ('base': conda)",
   "name": "python3"
  },
  "language_info": {
   "codemirror_mode": {
    "name": "ipython",
    "version": 3
   },
   "file_extension": ".py",
   "mimetype": "text/x-python",
   "name": "python",
   "nbconvert_exporter": "python",
   "pygments_lexer": "ipython3",
   "version": "3.9.5"
  },
  "orig_nbformat": 4
 },
 "nbformat": 4,
 "nbformat_minor": 2
}
